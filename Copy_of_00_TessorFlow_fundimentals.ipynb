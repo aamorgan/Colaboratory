{
  "nbformat": 4,
  "nbformat_minor": 0,
  "metadata": {
    "colab": {
      "provenance": [],
      "toc_visible": true,
      "include_colab_link": true
    },
    "kernelspec": {
      "name": "python3",
      "display_name": "Python 3"
    },
    "language_info": {
      "name": "python"
    }
  },
  "cells": [
    {
      "cell_type": "markdown",
      "metadata": {
        "id": "view-in-github",
        "colab_type": "text"
      },
      "source": [
        "<a href=\"https://colab.research.google.com/github/aamorgan/Colaboratory/blob/main/Copy_of_00_TessorFlow_fundimentals.ipynb\" target=\"_parent\"><img src=\"https://colab.research.google.com/assets/colab-badge.svg\" alt=\"Open In Colab\"/></a>"
      ]
    },
    {
      "cell_type": "markdown",
      "source": [
        "# In this notebook, we're going tocover some of the most fundimental concepts of tensors using TensorFlow\n",
        "\n",
        "More specifically, we're ghoing to cover:\n",
        "  * introduction to tensors\n",
        "  * Getting infoirmation from tensors\n",
        "  * Manipulating tensors\n",
        "  * Tensors & NumPy\n",
        "  * Using @tf.function (a way to speed up you Python functions)\n",
        "  * Using GPUs with TensorFlow (or TPUs)\n",
        "  * Exersizes to try for myself\n"
      ],
      "metadata": {
        "id": "qH8cFS9gxhq4"
      }
    },
    {
      "cell_type": "markdown",
      "source": [
        "## Introduction to Tensors"
      ],
      "metadata": {
        "id": "Of--ognLymh8"
      }
    },
    {
      "cell_type": "code",
      "source": [
        "# Import TensorFlow\n",
        "import tensorflow as tf\n",
        "print(tf.__version__)\n"
      ],
      "metadata": {
        "colab": {
          "base_uri": "https://localhost:8080/"
        },
        "id": "OmAAb8go1Qfl",
        "outputId": "d55235c7-c3bb-47e8-9e75-c70e901f4318"
      },
      "execution_count": 1,
      "outputs": [
        {
          "output_type": "stream",
          "name": "stdout",
          "text": [
            "2.9.2\n"
          ]
        }
      ]
    },
    {
      "cell_type": "code",
      "source": [
        "# Create tensors with tf.constant()\n",
        "scalar = tf.constant(7)\n",
        "scalar"
      ],
      "metadata": {
        "colab": {
          "base_uri": "https://localhost:8080/"
        },
        "id": "icP354911q4Z",
        "outputId": "ebd86d22-55cd-4fcf-8a9c-9e2ec13530fe"
      },
      "execution_count": 2,
      "outputs": [
        {
          "output_type": "execute_result",
          "data": {
            "text/plain": [
              "<tf.Tensor: shape=(), dtype=int32, numpy=7>"
            ]
          },
          "metadata": {},
          "execution_count": 2
        }
      ]
    },
    {
      "cell_type": "code",
      "source": [
        "# Check the number of dimensions of a tensor (ndim stand for the number of dimensions)\n",
        "scalar.ndim"
      ],
      "metadata": {
        "colab": {
          "base_uri": "https://localhost:8080/"
        },
        "id": "ry6fXGad2nIz",
        "outputId": "33846e6a-41a6-4c18-f2ec-7f40f26d7d20"
      },
      "execution_count": 3,
      "outputs": [
        {
          "output_type": "execute_result",
          "data": {
            "text/plain": [
              "0"
            ]
          },
          "metadata": {},
          "execution_count": 3
        }
      ]
    },
    {
      "cell_type": "code",
      "source": [
        "# Create a vector\n",
        "vector = tf.constant([10,10])\n",
        "vector"
      ],
      "metadata": {
        "colab": {
          "base_uri": "https://localhost:8080/"
        },
        "id": "dbUH8snf28Wv",
        "outputId": "6a917fe9-e360-4044-94e9-64cb8aaa5c09"
      },
      "execution_count": 4,
      "outputs": [
        {
          "output_type": "execute_result",
          "data": {
            "text/plain": [
              "<tf.Tensor: shape=(2,), dtype=int32, numpy=array([10, 10], dtype=int32)>"
            ]
          },
          "metadata": {},
          "execution_count": 4
        }
      ]
    },
    {
      "cell_type": "code",
      "source": [
        "vector.ndim"
      ],
      "metadata": {
        "colab": {
          "base_uri": "https://localhost:8080/"
        },
        "id": "v0kUJrgf3KQz",
        "outputId": "2c2b49fa-a730-45c0-913d-aee900cc6eb1"
      },
      "execution_count": 5,
      "outputs": [
        {
          "output_type": "execute_result",
          "data": {
            "text/plain": [
              "1"
            ]
          },
          "metadata": {},
          "execution_count": 5
        }
      ]
    },
    {
      "cell_type": "code",
      "source": [
        "# Create a matrix (has more more that 1 dimension)\n",
        "matrix = tf.constant([[10, 7],\n",
        "                      [7, 10]])\n",
        "matrix"
      ],
      "metadata": {
        "colab": {
          "base_uri": "https://localhost:8080/"
        },
        "id": "Z81Dpdjx3Q21",
        "outputId": "74c71d38-17ac-45a4-f1ff-728ef4416cd9"
      },
      "execution_count": 6,
      "outputs": [
        {
          "output_type": "execute_result",
          "data": {
            "text/plain": [
              "<tf.Tensor: shape=(2, 2), dtype=int32, numpy=\n",
              "array([[10,  7],\n",
              "       [ 7, 10]], dtype=int32)>"
            ]
          },
          "metadata": {},
          "execution_count": 6
        }
      ]
    },
    {
      "cell_type": "code",
      "source": [
        "matrix.ndim"
      ],
      "metadata": {
        "colab": {
          "base_uri": "https://localhost:8080/"
        },
        "id": "b1OrsMtP3z0A",
        "outputId": "390ac903-a25d-43e1-aa90-c637078c5934"
      },
      "execution_count": 7,
      "outputs": [
        {
          "output_type": "execute_result",
          "data": {
            "text/plain": [
              "2"
            ]
          },
          "metadata": {},
          "execution_count": 7
        }
      ]
    },
    {
      "cell_type": "code",
      "source": [
        "# Create another matrix\n",
        "another_matrix = tf.constant([[10., 7.],\n",
        "                              [3., 2.],\n",
        "                              [44., 6.]], dtype=tf.float16) # specify the datatype with tf.float\n",
        "another_matrix"
      ],
      "metadata": {
        "colab": {
          "base_uri": "https://localhost:8080/"
        },
        "id": "MC1bK7S24KuU",
        "outputId": "7d206540-cfa2-4677-f11a-1ec39dde8506"
      },
      "execution_count": 8,
      "outputs": [
        {
          "output_type": "execute_result",
          "data": {
            "text/plain": [
              "<tf.Tensor: shape=(3, 2), dtype=float16, numpy=\n",
              "array([[10.,  7.],\n",
              "       [ 3.,  2.],\n",
              "       [44.,  6.]], dtype=float16)>"
            ]
          },
          "metadata": {},
          "execution_count": 8
        }
      ]
    },
    {
      "cell_type": "code",
      "source": [
        "another_matrix.ndim"
      ],
      "metadata": {
        "colab": {
          "base_uri": "https://localhost:8080/"
        },
        "id": "bo4fM7Vi46Aq",
        "outputId": "9d391585-c788-4a22-bf42-35f94dd0dfce"
      },
      "execution_count": 9,
      "outputs": [
        {
          "output_type": "execute_result",
          "data": {
            "text/plain": [
              "2"
            ]
          },
          "metadata": {},
          "execution_count": 9
        }
      ]
    },
    {
      "cell_type": "code",
      "source": [
        "# Let's create a TENSOR!!\n",
        "tensor = tf.constant([[[1, 2, 3],[4, 5, 6], [7, 8, 9]],[[1, 2, 3],[4, 5, 6], [7, 8, 9]],[[1, 2, 3],[4, 5, 6], [7, 8, 9]]])\n",
        "tensor"
      ],
      "metadata": {
        "colab": {
          "base_uri": "https://localhost:8080/"
        },
        "id": "wfOjzXti5rFW",
        "outputId": "42e35d1b-6729-4324-b030-1ebf043cecbd"
      },
      "execution_count": 10,
      "outputs": [
        {
          "output_type": "execute_result",
          "data": {
            "text/plain": [
              "<tf.Tensor: shape=(3, 3, 3), dtype=int32, numpy=\n",
              "array([[[1, 2, 3],\n",
              "        [4, 5, 6],\n",
              "        [7, 8, 9]],\n",
              "\n",
              "       [[1, 2, 3],\n",
              "        [4, 5, 6],\n",
              "        [7, 8, 9]],\n",
              "\n",
              "       [[1, 2, 3],\n",
              "        [4, 5, 6],\n",
              "        [7, 8, 9]]], dtype=int32)>"
            ]
          },
          "metadata": {},
          "execution_count": 10
        }
      ]
    },
    {
      "cell_type": "code",
      "source": [
        "tensor.ndim"
      ],
      "metadata": {
        "colab": {
          "base_uri": "https://localhost:8080/"
        },
        "id": "v3t-UkoK62I5",
        "outputId": "f34442cf-9612-4fb7-d9e3-d74c7e0969b0"
      },
      "execution_count": 11,
      "outputs": [
        {
          "output_type": "execute_result",
          "data": {
            "text/plain": [
              "3"
            ]
          },
          "metadata": {},
          "execution_count": 11
        }
      ]
    },
    {
      "cell_type": "markdown",
      "source": [
        "### Creating Tensors with `tf.Variable`\n"
      ],
      "metadata": {
        "id": "YslaiaZn1dUa"
      }
    },
    {
      "cell_type": "code",
      "source": [
        "changeable_variable = tf.Variable([10, 7])\n",
        "unchangeable_tensor = tf.constant([10, 7])\n",
        "changeable_variable, unchangeable_tensor"
      ],
      "metadata": {
        "colab": {
          "base_uri": "https://localhost:8080/"
        },
        "id": "IazGuDwS2FT8",
        "outputId": "762f4cbf-9e86-4d91-adcc-73171e31d67e"
      },
      "execution_count": 12,
      "outputs": [
        {
          "output_type": "execute_result",
          "data": {
            "text/plain": [
              "(<tf.Variable 'Variable:0' shape=(2,) dtype=int32, numpy=array([10,  7], dtype=int32)>,\n",
              " <tf.Tensor: shape=(2,), dtype=int32, numpy=array([10,  7], dtype=int32)>)"
            ]
          },
          "metadata": {},
          "execution_count": 12
        }
      ]
    },
    {
      "cell_type": "code",
      "source": [
        "changeable_variable[0].assign(7)\n"
      ],
      "metadata": {
        "colab": {
          "base_uri": "https://localhost:8080/"
        },
        "id": "IPibomXO30sv",
        "outputId": "2c70bed1-74d5-4f70-c4c5-f3fb00de3287"
      },
      "execution_count": 13,
      "outputs": [
        {
          "output_type": "execute_result",
          "data": {
            "text/plain": [
              "<tf.Variable 'UnreadVariable' shape=(2,) dtype=int32, numpy=array([7, 7], dtype=int32)>"
            ]
          },
          "metadata": {},
          "execution_count": 13
        }
      ]
    },
    {
      "cell_type": "markdown",
      "source": [
        "### Creating Random Tensors\n",
        "Tensors of arbitrary size with random  numbers"
      ],
      "metadata": {
        "id": "q8myMxTi4z1D"
      }
    },
    {
      "cell_type": "code",
      "source": [
        " # Create a random tensor with shape (2, 3)\n",
        "random_1 = tf.random.Generator.from_seed(42)\n",
        "random_1 = tf.random.normal(shape=(3, 3))\n",
        "random_2 = tf.random.Generator.from_seed(42)\n",
        "random_2 = tf.random.normal(shape=(3, 3))\n",
        "random_1, random_2, random_1 == random_2"
      ],
      "metadata": {
        "id": "NgH8dlFO5EGG",
        "colab": {
          "base_uri": "https://localhost:8080/"
        },
        "outputId": "6bcb27e9-bab7-48fa-d5f6-31c1e287ebb8"
      },
      "execution_count": 14,
      "outputs": [
        {
          "output_type": "execute_result",
          "data": {
            "text/plain": [
              "(<tf.Tensor: shape=(3, 3), dtype=float32, numpy=\n",
              " array([[-1.088157  ,  1.7188773 ,  1.3785589 ],\n",
              "        [-1.9688269 , -0.04555538, -0.3878026 ],\n",
              "        [ 0.20056592,  1.1760765 , -1.0818911 ]], dtype=float32)>,\n",
              " <tf.Tensor: shape=(3, 3), dtype=float32, numpy=\n",
              " array([[-2.8007269e-01,  5.4455525e-01, -2.6462901e+00],\n",
              "        [-1.6868650e+00, -1.0715064e+00, -1.3154598e+00],\n",
              "        [-1.1376157e+00, -1.7618894e-03,  1.2774322e+00]], dtype=float32)>,\n",
              " <tf.Tensor: shape=(3, 3), dtype=bool, numpy=\n",
              " array([[False, False, False],\n",
              "        [False, False, False],\n",
              "        [False, False, False]])>)"
            ]
          },
          "metadata": {},
          "execution_count": 14
        }
      ]
    },
    {
      "cell_type": "markdown",
      "source": [
        "### Shuffle the order of elements in a tensor"
      ],
      "metadata": {
        "id": "S7S-_cqr92F1"
      }
    },
    {
      "cell_type": "code",
      "source": [
        "# Shuffle a tensor (valuable for when you want to shuffle you data so that there is no inherent order)\n",
        "import tensorflow as tf\n",
        "\n",
        "# Create a tensor with shape (4, 2)\n",
        "original_tensor = tf.constant([[1, 2], [3, 4], [5, 6], [7, 8]])\n",
        "\n",
        "# Shuffle the elements of the tensor\n",
        "shuffled_tensor1 = tf.random.shuffle(original_tensor)\n",
        "\n",
        "tf.random.set_seed(11) # Random but does not change\n",
        "shuffled_tensor2 = tf.random.shuffle(original_tensor)\n",
        "shuffled_tensor1, shuffled_tensor2"
      ],
      "metadata": {
        "colab": {
          "base_uri": "https://localhost:8080/"
        },
        "id": "l14m4rEx99Vt",
        "outputId": "4863e837-2091-479a-9ef4-b17f0df96b8a"
      },
      "execution_count": 15,
      "outputs": [
        {
          "output_type": "execute_result",
          "data": {
            "text/plain": [
              "(<tf.Tensor: shape=(4, 2), dtype=int32, numpy=\n",
              " array([[1, 2],\n",
              "        [7, 8],\n",
              "        [5, 6],\n",
              "        [3, 4]], dtype=int32)>, <tf.Tensor: shape=(4, 2), dtype=int32, numpy=\n",
              " array([[1, 2],\n",
              "        [3, 4],\n",
              "        [7, 8],\n",
              "        [5, 6]], dtype=int32)>)"
            ]
          },
          "metadata": {},
          "execution_count": 15
        }
      ]
    },
    {
      "cell_type": "code",
      "source": [
        "tf.zeros([10, 7])"
      ],
      "metadata": {
        "colab": {
          "base_uri": "https://localhost:8080/"
        },
        "id": "dKBoDyb9Cn9D",
        "outputId": "1c71dfc5-4a36-4f11-fcee-1ca8c8fde393"
      },
      "execution_count": 16,
      "outputs": [
        {
          "output_type": "execute_result",
          "data": {
            "text/plain": [
              "<tf.Tensor: shape=(10, 7), dtype=float32, numpy=\n",
              "array([[0., 0., 0., 0., 0., 0., 0.],\n",
              "       [0., 0., 0., 0., 0., 0., 0.],\n",
              "       [0., 0., 0., 0., 0., 0., 0.],\n",
              "       [0., 0., 0., 0., 0., 0., 0.],\n",
              "       [0., 0., 0., 0., 0., 0., 0.],\n",
              "       [0., 0., 0., 0., 0., 0., 0.],\n",
              "       [0., 0., 0., 0., 0., 0., 0.],\n",
              "       [0., 0., 0., 0., 0., 0., 0.],\n",
              "       [0., 0., 0., 0., 0., 0., 0.],\n",
              "       [0., 0., 0., 0., 0., 0., 0.]], dtype=float32)>"
            ]
          },
          "metadata": {},
          "execution_count": 16
        }
      ]
    },
    {
      "cell_type": "code",
      "source": [
        "# You can turn NumPy arrays into tensors\n",
        "import numpy as np\n",
        "numpy_A = np.arange(1, 25, dtype=np.int32)\n",
        "tensor_A = tf.constant(numpy_A, shape=(2, 3, 4))\n",
        "tensor_B = tf.constant(numpy_A)\n",
        "tensor_A, tensor_B"
      ],
      "metadata": {
        "colab": {
          "base_uri": "https://localhost:8080/"
        },
        "id": "V7EuKC_tDBNs",
        "outputId": "d4919646-190b-4ccd-a9e9-8ef8e1bd8cbb"
      },
      "execution_count": 17,
      "outputs": [
        {
          "output_type": "execute_result",
          "data": {
            "text/plain": [
              "(<tf.Tensor: shape=(2, 3, 4), dtype=int32, numpy=\n",
              " array([[[ 1,  2,  3,  4],\n",
              "         [ 5,  6,  7,  8],\n",
              "         [ 9, 10, 11, 12]],\n",
              " \n",
              "        [[13, 14, 15, 16],\n",
              "         [17, 18, 19, 20],\n",
              "         [21, 22, 23, 24]]], dtype=int32)>,\n",
              " <tf.Tensor: shape=(24,), dtype=int32, numpy=\n",
              " array([ 1,  2,  3,  4,  5,  6,  7,  8,  9, 10, 11, 12, 13, 14, 15, 16, 17,\n",
              "        18, 19, 20, 21, 22, 23, 24], dtype=int32)>)"
            ]
          },
          "metadata": {},
          "execution_count": 17
        }
      ]
    },
    {
      "cell_type": "markdown",
      "source": [
        "### Getting information from tensors\n",
        "When dealing with tensors you probably want to be aware of the following attributes:\n",
        " * Shape\n",
        " * Rank\n",
        " * Axis or dimension\n",
        " * Size"
      ],
      "metadata": {
        "id": "hnvBHks9DLe_"
      }
    },
    {
      "cell_type": "code",
      "source": [
        "#  Create a rank 4 tensor (4 dimensions)\n",
        "rank_4_tensor = tf.zeros(shape=[2, 3, 4, 5])\n",
        "rank_4_tensor"
      ],
      "metadata": {
        "id": "J0QtTKDrEjPY",
        "colab": {
          "base_uri": "https://localhost:8080/"
        },
        "outputId": "c1e6be43-d3bc-4887-9d4f-77b3f2364035"
      },
      "execution_count": 18,
      "outputs": [
        {
          "output_type": "execute_result",
          "data": {
            "text/plain": [
              "<tf.Tensor: shape=(2, 3, 4, 5), dtype=float32, numpy=\n",
              "array([[[[0., 0., 0., 0., 0.],\n",
              "         [0., 0., 0., 0., 0.],\n",
              "         [0., 0., 0., 0., 0.],\n",
              "         [0., 0., 0., 0., 0.]],\n",
              "\n",
              "        [[0., 0., 0., 0., 0.],\n",
              "         [0., 0., 0., 0., 0.],\n",
              "         [0., 0., 0., 0., 0.],\n",
              "         [0., 0., 0., 0., 0.]],\n",
              "\n",
              "        [[0., 0., 0., 0., 0.],\n",
              "         [0., 0., 0., 0., 0.],\n",
              "         [0., 0., 0., 0., 0.],\n",
              "         [0., 0., 0., 0., 0.]]],\n",
              "\n",
              "\n",
              "       [[[0., 0., 0., 0., 0.],\n",
              "         [0., 0., 0., 0., 0.],\n",
              "         [0., 0., 0., 0., 0.],\n",
              "         [0., 0., 0., 0., 0.]],\n",
              "\n",
              "        [[0., 0., 0., 0., 0.],\n",
              "         [0., 0., 0., 0., 0.],\n",
              "         [0., 0., 0., 0., 0.],\n",
              "         [0., 0., 0., 0., 0.]],\n",
              "\n",
              "        [[0., 0., 0., 0., 0.],\n",
              "         [0., 0., 0., 0., 0.],\n",
              "         [0., 0., 0., 0., 0.],\n",
              "         [0., 0., 0., 0., 0.]]]], dtype=float32)>"
            ]
          },
          "metadata": {},
          "execution_count": 18
        }
      ]
    },
    {
      "cell_type": "code",
      "source": [
        "rank_4_tensor[:, :, 0]"
      ],
      "metadata": {
        "colab": {
          "base_uri": "https://localhost:8080/"
        },
        "id": "4mRU2SGxGyGB",
        "outputId": "65107d3d-9cd8-4ab8-e3a5-eb3711abe484"
      },
      "execution_count": 19,
      "outputs": [
        {
          "output_type": "execute_result",
          "data": {
            "text/plain": [
              "<tf.Tensor: shape=(2, 3, 5), dtype=float32, numpy=\n",
              "array([[[0., 0., 0., 0., 0.],\n",
              "        [0., 0., 0., 0., 0.],\n",
              "        [0., 0., 0., 0., 0.]],\n",
              "\n",
              "       [[0., 0., 0., 0., 0.],\n",
              "        [0., 0., 0., 0., 0.],\n",
              "        [0., 0., 0., 0., 0.]]], dtype=float32)>"
            ]
          },
          "metadata": {},
          "execution_count": 19
        }
      ]
    },
    {
      "cell_type": "code",
      "source": [
        "# Get the first 2 elements of each dimension\n",
        "rank_4_tensor[:2, :2,:2, :2]"
      ],
      "metadata": {
        "colab": {
          "base_uri": "https://localhost:8080/"
        },
        "id": "1lNdpSItBmV3",
        "outputId": "a8ebf16c-e2ff-4069-b333-298d36cff036"
      },
      "execution_count": 20,
      "outputs": [
        {
          "output_type": "execute_result",
          "data": {
            "text/plain": [
              "<tf.Tensor: shape=(2, 2, 2, 2), dtype=float32, numpy=\n",
              "array([[[[0., 0.],\n",
              "         [0., 0.]],\n",
              "\n",
              "        [[0., 0.],\n",
              "         [0., 0.]]],\n",
              "\n",
              "\n",
              "       [[[0., 0.],\n",
              "         [0., 0.]],\n",
              "\n",
              "        [[0., 0.],\n",
              "         [0., 0.]]]], dtype=float32)>"
            ]
          },
          "metadata": {},
          "execution_count": 20
        }
      ]
    },
    {
      "cell_type": "code",
      "source": [
        "# the first element from each dimension from each index except for the final one \n",
        "rank_4_tensor[:1 ,:1, :, :1]"
      ],
      "metadata": {
        "colab": {
          "base_uri": "https://localhost:8080/"
        },
        "id": "jhvcg7eiCMYM",
        "outputId": "48578d7a-9fe1-44a1-c44a-004310feaea5"
      },
      "execution_count": 21,
      "outputs": [
        {
          "output_type": "execute_result",
          "data": {
            "text/plain": [
              "<tf.Tensor: shape=(1, 1, 4, 1), dtype=float32, numpy=\n",
              "array([[[[0.],\n",
              "         [0.],\n",
              "         [0.],\n",
              "         [0.]]]], dtype=float32)>"
            ]
          },
          "metadata": {},
          "execution_count": 21
        }
      ]
    },
    {
      "cell_type": "code",
      "source": [
        "# Add in extra dimension to a rank 2 tensor\n",
        "rank_2_tensor = tf.constant([[10,17],\n",
        "                 [21,3]])\n",
        "rank_3_tensor = rank_2_tensor[:, :, tf.newaxis] # or rank_2_tensor[..., tf.newaxis]\n",
        "rank_3_tensor"
      ],
      "metadata": {
        "colab": {
          "base_uri": "https://localhost:8080/"
        },
        "id": "xWkSw0B7Dbna",
        "outputId": "49850ac7-0cda-4fbb-a718-d4ee35e90986"
      },
      "execution_count": 22,
      "outputs": [
        {
          "output_type": "execute_result",
          "data": {
            "text/plain": [
              "<tf.Tensor: shape=(2, 2, 1), dtype=int32, numpy=\n",
              "array([[[10],\n",
              "        [17]],\n",
              "\n",
              "       [[21],\n",
              "        [ 3]]], dtype=int32)>"
            ]
          },
          "metadata": {},
          "execution_count": 22
        }
      ]
    },
    {
      "cell_type": "code",
      "source": [
        "# Alternative to expand axis\n",
        "rank_3a_tensor = tf.expand_dims(rank_2_tensor, axis=0)\n",
        "rank_3a_tensor"
      ],
      "metadata": {
        "colab": {
          "base_uri": "https://localhost:8080/"
        },
        "id": "ehjaKr0lFlVS",
        "outputId": "92ba3d1d-2f85-4b7f-a460-40cf6bf1d5c0"
      },
      "execution_count": 23,
      "outputs": [
        {
          "output_type": "execute_result",
          "data": {
            "text/plain": [
              "<tf.Tensor: shape=(1, 2, 2), dtype=int32, numpy=\n",
              "array([[[10, 17],\n",
              "        [21,  3]]], dtype=int32)>"
            ]
          },
          "metadata": {},
          "execution_count": 23
        }
      ]
    },
    {
      "cell_type": "markdown",
      "source": [
        "### Maniupulating Tensors (Tensor operations)\n",
        "\n",
        "**Basic Operations**\n",
        "\n",
        "`+`, `-`, `*` and `/`\n",
        " \n"
      ],
      "metadata": {
        "id": "gJ12P6ANGg6o"
      }
    },
    {
      "cell_type": "code",
      "source": [
        "tensor = tf.ones(shape = [2, 2])\n",
        "(tensor + 10) * 21"
      ],
      "metadata": {
        "colab": {
          "base_uri": "https://localhost:8080/"
        },
        "id": "fU1W3oF_HXwS",
        "outputId": "357244a0-4744-4be7-edf2-454f914c7b02"
      },
      "execution_count": 24,
      "outputs": [
        {
          "output_type": "execute_result",
          "data": {
            "text/plain": [
              "<tf.Tensor: shape=(2, 2), dtype=float32, numpy=\n",
              "array([[231., 231.],\n",
              "       [231., 231.]], dtype=float32)>"
            ]
          },
          "metadata": {},
          "execution_count": 24
        }
      ]
    },
    {
      "cell_type": "code",
      "source": [
        "tf.math.add(tf.multiply(tensor, 10), 13)"
      ],
      "metadata": {
        "colab": {
          "base_uri": "https://localhost:8080/"
        },
        "id": "d6SxDDaKGng6",
        "outputId": "d7ad5dba-4eef-4552-aefb-2b8f46e3b4a2"
      },
      "execution_count": 25,
      "outputs": [
        {
          "output_type": "execute_result",
          "data": {
            "text/plain": [
              "<tf.Tensor: shape=(2, 2), dtype=float32, numpy=\n",
              "array([[23., 23.],\n",
              "       [23., 23.]], dtype=float32)>"
            ]
          },
          "metadata": {},
          "execution_count": 25
        }
      ]
    },
    {
      "cell_type": "markdown",
      "source": [
        "**Matrix Multiplication**\n",
        "\n",
        "In Tensor manipulation matrix manipulation is very important\n"
      ],
      "metadata": {
        "id": "y0gAjA8RI43h"
      }
    },
    {
      "cell_type": "code",
      "source": [
        "matrix_1 = tf.constant([[1, 2, 3],\n",
        "                       [4, 5, 6]])\n",
        "matrix_2 = tf.constant( [[7, 8],\n",
        "                        [9, 10],\n",
        "                       [11, 12]])\n",
        "tf.matmul(matrix_1, matrix_2), matrix_1 @ matrix_2, matrix_1 * matrix_2"
      ],
      "metadata": {
        "colab": {
          "base_uri": "https://localhost:8080/",
          "height": 363
        },
        "id": "kbWcBf5kJRgb",
        "outputId": "d03afde8-8298-42fa-f5bb-bfaf917c4155"
      },
      "execution_count": 26,
      "outputs": [
        {
          "output_type": "error",
          "ename": "InvalidArgumentError",
          "evalue": "ignored",
          "traceback": [
            "\u001b[0;31m---------------------------------------------------------------------------\u001b[0m",
            "\u001b[0;31mInvalidArgumentError\u001b[0m                      Traceback (most recent call last)",
            "\u001b[0;32m<ipython-input-26-7cb529ca934d>\u001b[0m in \u001b[0;36m<module>\u001b[0;34m\u001b[0m\n\u001b[1;32m      4\u001b[0m                         \u001b[0;34m[\u001b[0m\u001b[0;36m9\u001b[0m\u001b[0;34m,\u001b[0m \u001b[0;36m10\u001b[0m\u001b[0;34m]\u001b[0m\u001b[0;34m,\u001b[0m\u001b[0;34m\u001b[0m\u001b[0;34m\u001b[0m\u001b[0m\n\u001b[1;32m      5\u001b[0m                        [11, 12]])\n\u001b[0;32m----> 6\u001b[0;31m \u001b[0mtf\u001b[0m\u001b[0;34m.\u001b[0m\u001b[0mmatmul\u001b[0m\u001b[0;34m(\u001b[0m\u001b[0mmatrix_1\u001b[0m\u001b[0;34m,\u001b[0m \u001b[0mmatrix_2\u001b[0m\u001b[0;34m)\u001b[0m\u001b[0;34m,\u001b[0m \u001b[0mmatrix_1\u001b[0m \u001b[0;34m@\u001b[0m \u001b[0mmatrix_2\u001b[0m\u001b[0;34m,\u001b[0m \u001b[0mmatrix_1\u001b[0m \u001b[0;34m*\u001b[0m \u001b[0mmatrix_2\u001b[0m\u001b[0;34m\u001b[0m\u001b[0;34m\u001b[0m\u001b[0m\n\u001b[0m",
            "\u001b[0;32m/usr/local/lib/python3.8/dist-packages/tensorflow/python/util/traceback_utils.py\u001b[0m in \u001b[0;36merror_handler\u001b[0;34m(*args, **kwargs)\u001b[0m\n\u001b[1;32m    151\u001b[0m     \u001b[0;32mexcept\u001b[0m \u001b[0mException\u001b[0m \u001b[0;32mas\u001b[0m \u001b[0me\u001b[0m\u001b[0;34m:\u001b[0m\u001b[0;34m\u001b[0m\u001b[0;34m\u001b[0m\u001b[0m\n\u001b[1;32m    152\u001b[0m       \u001b[0mfiltered_tb\u001b[0m \u001b[0;34m=\u001b[0m \u001b[0m_process_traceback_frames\u001b[0m\u001b[0;34m(\u001b[0m\u001b[0me\u001b[0m\u001b[0;34m.\u001b[0m\u001b[0m__traceback__\u001b[0m\u001b[0;34m)\u001b[0m\u001b[0;34m\u001b[0m\u001b[0;34m\u001b[0m\u001b[0m\n\u001b[0;32m--> 153\u001b[0;31m       \u001b[0;32mraise\u001b[0m \u001b[0me\u001b[0m\u001b[0;34m.\u001b[0m\u001b[0mwith_traceback\u001b[0m\u001b[0;34m(\u001b[0m\u001b[0mfiltered_tb\u001b[0m\u001b[0;34m)\u001b[0m \u001b[0;32mfrom\u001b[0m \u001b[0;32mNone\u001b[0m\u001b[0;34m\u001b[0m\u001b[0;34m\u001b[0m\u001b[0m\n\u001b[0m\u001b[1;32m    154\u001b[0m     \u001b[0;32mfinally\u001b[0m\u001b[0;34m:\u001b[0m\u001b[0;34m\u001b[0m\u001b[0;34m\u001b[0m\u001b[0m\n\u001b[1;32m    155\u001b[0m       \u001b[0;32mdel\u001b[0m \u001b[0mfiltered_tb\u001b[0m\u001b[0;34m\u001b[0m\u001b[0;34m\u001b[0m\u001b[0m\n",
            "\u001b[0;32m/usr/local/lib/python3.8/dist-packages/tensorflow/python/framework/ops.py\u001b[0m in \u001b[0;36mraise_from_not_ok_status\u001b[0;34m(e, name)\u001b[0m\n\u001b[1;32m   7162\u001b[0m \u001b[0;32mdef\u001b[0m \u001b[0mraise_from_not_ok_status\u001b[0m\u001b[0;34m(\u001b[0m\u001b[0me\u001b[0m\u001b[0;34m,\u001b[0m \u001b[0mname\u001b[0m\u001b[0;34m)\u001b[0m\u001b[0;34m:\u001b[0m\u001b[0;34m\u001b[0m\u001b[0;34m\u001b[0m\u001b[0m\n\u001b[1;32m   7163\u001b[0m   \u001b[0me\u001b[0m\u001b[0;34m.\u001b[0m\u001b[0mmessage\u001b[0m \u001b[0;34m+=\u001b[0m \u001b[0;34m(\u001b[0m\u001b[0;34m\" name: \"\u001b[0m \u001b[0;34m+\u001b[0m \u001b[0mname\u001b[0m \u001b[0;32mif\u001b[0m \u001b[0mname\u001b[0m \u001b[0;32mis\u001b[0m \u001b[0;32mnot\u001b[0m \u001b[0;32mNone\u001b[0m \u001b[0;32melse\u001b[0m \u001b[0;34m\"\"\u001b[0m\u001b[0;34m)\u001b[0m\u001b[0;34m\u001b[0m\u001b[0;34m\u001b[0m\u001b[0m\n\u001b[0;32m-> 7164\u001b[0;31m   \u001b[0;32mraise\u001b[0m \u001b[0mcore\u001b[0m\u001b[0;34m.\u001b[0m\u001b[0m_status_to_exception\u001b[0m\u001b[0;34m(\u001b[0m\u001b[0me\u001b[0m\u001b[0;34m)\u001b[0m \u001b[0;32mfrom\u001b[0m \u001b[0;32mNone\u001b[0m  \u001b[0;31m# pylint: disable=protected-access\u001b[0m\u001b[0;34m\u001b[0m\u001b[0;34m\u001b[0m\u001b[0m\n\u001b[0m\u001b[1;32m   7165\u001b[0m \u001b[0;34m\u001b[0m\u001b[0m\n\u001b[1;32m   7166\u001b[0m \u001b[0;34m\u001b[0m\u001b[0m\n",
            "\u001b[0;31mInvalidArgumentError\u001b[0m: Incompatible shapes: [2,3] vs. [3,2] [Op:Mul]"
          ]
        }
      ]
    },
    {
      "cell_type": "code",
      "source": [
        "import tensorflow as tf\n",
        "\n",
        "# Create two matrices\n",
        "a = tf.constant([[1, 2], [3, 4]])\n",
        "b = tf.constant([[5, 6], [7, 8]])\n",
        "\n",
        "# Perform matrix multiplication\n",
        "result = tf.matmul(a, b)\n",
        "\n",
        "# Print the result\n",
        "print(result)  # Output: [[19 22], [43 50]]\n"
      ],
      "metadata": {
        "colab": {
          "base_uri": "https://localhost:8080/"
        },
        "id": "xKkGlybgMKrR",
        "outputId": "af07476b-a0c4-4b37-c0fa-41c279676c04"
      },
      "execution_count": 27,
      "outputs": [
        {
          "output_type": "stream",
          "name": "stdout",
          "text": [
            "tf.Tensor(\n",
            "[[19 22]\n",
            " [43 50]], shape=(2, 2), dtype=int32)\n"
          ]
        }
      ]
    },
    {
      "cell_type": "code",
      "source": [
        "tf.math.reduce_std(tf.cast(result, tf.float32)),\n",
        "tf.math.reduce_variance(tf.cast(result, tf.float64))"
      ],
      "metadata": {
        "id": "Np1QnhfYWRzA",
        "outputId": "1614c305-f0b3-4603-c3b8-250ffc05ac59",
        "colab": {
          "base_uri": "https://localhost:8080/"
        }
      },
      "execution_count": 32,
      "outputs": [
        {
          "output_type": "execute_result",
          "data": {
            "text/plain": [
              "<tf.Tensor: shape=(), dtype=float64, numpy=176.25>"
            ]
          },
          "metadata": {},
          "execution_count": 32
        }
      ]
    },
    {
      "cell_type": "markdown",
      "source": [
        "### Find Positional Minmum and Maximum"
      ],
      "metadata": {
        "id": "bXzTq-n5Zu9U"
      }
    },
    {
      "cell_type": "code",
      "source": [
        "# Create a new tensor for finding positional min and max\n",
        "tf.random.set_seed(42)\n",
        "F = tf.random.uniform(shape=[50])\n",
        "F"
      ],
      "metadata": {
        "id": "IkVoVDrjZsaY",
        "outputId": "ce02fa8d-08b8-4b98-c4b6-4a5b5c432567",
        "colab": {
          "base_uri": "https://localhost:8080/"
        }
      },
      "execution_count": 34,
      "outputs": [
        {
          "output_type": "execute_result",
          "data": {
            "text/plain": [
              "<tf.Tensor: shape=(50,), dtype=float32, numpy=\n",
              "array([0.6645621 , 0.44100678, 0.3528825 , 0.46448255, 0.03366041,\n",
              "       0.68467236, 0.74011743, 0.8724445 , 0.22632635, 0.22319686,\n",
              "       0.3103881 , 0.7223358 , 0.13318717, 0.5480639 , 0.5746088 ,\n",
              "       0.8996835 , 0.00946367, 0.5212307 , 0.6345445 , 0.1993283 ,\n",
              "       0.72942245, 0.54583454, 0.10756552, 0.6767061 , 0.6602763 ,\n",
              "       0.33695042, 0.60141766, 0.21062577, 0.8527372 , 0.44062173,\n",
              "       0.9485276 , 0.23752594, 0.81179297, 0.5263394 , 0.494308  ,\n",
              "       0.21612847, 0.8457197 , 0.8718841 , 0.3083862 , 0.6868038 ,\n",
              "       0.23764038, 0.7817228 , 0.9671384 , 0.06870162, 0.79873943,\n",
              "       0.66028714, 0.5871513 , 0.16461694, 0.7381023 , 0.32054043],\n",
              "      dtype=float32)>"
            ]
          },
          "metadata": {},
          "execution_count": 34
        }
      ]
    },
    {
      "cell_type": "code",
      "source": [
        "# Find the positional maximum\n",
        "tf.argmax(F)"
      ],
      "metadata": {
        "id": "oK1aSS3TbBXn",
        "outputId": "14829963-5549-4801-b798-23b2e4ad10e3",
        "colab": {
          "base_uri": "https://localhost:8080/"
        }
      },
      "execution_count": 35,
      "outputs": [
        {
          "output_type": "execute_result",
          "data": {
            "text/plain": [
              "<tf.Tensor: shape=(), dtype=int64, numpy=42>"
            ]
          },
          "metadata": {},
          "execution_count": 35
        }
      ]
    },
    {
      "cell_type": "code",
      "source": [
        "# Index on our largest value index, use to find value, test with reduce_max\n",
        "posMax = tf.argmax(F)\n",
        "posMax, F[posMax], tf.reduce_max(F), F[tf.argmax(F)]==tf.reduce_max(F)"
      ],
      "metadata": {
        "id": "yeF8HulobTRE",
        "outputId": "6b2bdaaa-286c-4325-a7ea-cde458af7a69",
        "colab": {
          "base_uri": "https://localhost:8080/"
        }
      },
      "execution_count": 41,
      "outputs": [
        {
          "output_type": "execute_result",
          "data": {
            "text/plain": [
              "(<tf.Tensor: shape=(), dtype=int64, numpy=42>,\n",
              " <tf.Tensor: shape=(), dtype=float32, numpy=0.9671384>,\n",
              " <tf.Tensor: shape=(), dtype=float32, numpy=0.9671384>,\n",
              " <tf.Tensor: shape=(), dtype=bool, numpy=True>)"
            ]
          },
          "metadata": {},
          "execution_count": 41
        }
      ]
    },
    {
      "cell_type": "code",
      "source": [
        "# Index on our smallest value index, use to find value, test with reduce_min\n",
        "posMin = tf.argmin(F)\n",
        "posMin, F[posMin], tf.reduce_min(F)"
      ],
      "metadata": {
        "id": "R8R3E3Pia8kN",
        "outputId": "4d114fd9-7edb-4a81-cd11-e6efee5fbc15",
        "colab": {
          "base_uri": "https://localhost:8080/"
        }
      },
      "execution_count": 38,
      "outputs": [
        {
          "output_type": "execute_result",
          "data": {
            "text/plain": [
              "(<tf.Tensor: shape=(), dtype=int64, numpy=16>,\n",
              " <tf.Tensor: shape=(), dtype=float32, numpy=0.009463668>,\n",
              " <tf.Tensor: shape=(), dtype=float32, numpy=0.009463668>)"
            ]
          },
          "metadata": {},
          "execution_count": 38
        }
      ]
    },
    {
      "cell_type": "code",
      "source": [
        "# Create a new tensor to practice SQUEEZING\n",
        "tf.random.set_seed(42)\n",
        "# Remove all single dimensions\n",
        "G = tf.random.uniform(shape=[1, 1, 2, 1, 50])\n",
        "G_squeezed = tf.squeeze(G)\n",
        "G, G_squeezed"
      ],
      "metadata": {
        "id": "qPg9Il2tcXRy",
        "outputId": "56bcd52c-33fb-4f3c-c21e-fb3aea6cdc2e",
        "colab": {
          "base_uri": "https://localhost:8080/"
        }
      },
      "execution_count": 44,
      "outputs": [
        {
          "output_type": "execute_result",
          "data": {
            "text/plain": [
              "(<tf.Tensor: shape=(1, 1, 2, 1, 50), dtype=float32, numpy=\n",
              " array([[[[[0.6645621 , 0.44100678, 0.3528825 , 0.46448255, 0.03366041,\n",
              "            0.68467236, 0.74011743, 0.8724445 , 0.22632635, 0.22319686,\n",
              "            0.3103881 , 0.7223358 , 0.13318717, 0.5480639 , 0.5746088 ,\n",
              "            0.8996835 , 0.00946367, 0.5212307 , 0.6345445 , 0.1993283 ,\n",
              "            0.72942245, 0.54583454, 0.10756552, 0.6767061 , 0.6602763 ,\n",
              "            0.33695042, 0.60141766, 0.21062577, 0.8527372 , 0.44062173,\n",
              "            0.9485276 , 0.23752594, 0.81179297, 0.5263394 , 0.494308  ,\n",
              "            0.21612847, 0.8457197 , 0.8718841 , 0.3083862 , 0.6868038 ,\n",
              "            0.23764038, 0.7817228 , 0.9671384 , 0.06870162, 0.79873943,\n",
              "            0.66028714, 0.5871513 , 0.16461694, 0.7381023 , 0.32054043]],\n",
              " \n",
              "          [[0.6073899 , 0.46523476, 0.97803545, 0.7223145 , 0.32347047,\n",
              "            0.82577336, 0.4976915 , 0.19483674, 0.7588748 , 0.3380444 ,\n",
              "            0.28128064, 0.31513572, 0.60670924, 0.7498598 , 0.5016055 ,\n",
              "            0.18282163, 0.13179815, 0.64636123, 0.9559475 , 0.6670735 ,\n",
              "            0.30755532, 0.36892188, 0.44735897, 0.18359458, 0.5288255 ,\n",
              "            0.7052754 , 0.898633  , 0.31386292, 0.62338257, 0.96815526,\n",
              "            0.11207926, 0.29590535, 0.9356605 , 0.1341263 , 0.31937933,\n",
              "            0.262277  , 0.03148758, 0.90045524, 0.6409379 , 0.5821855 ,\n",
              "            0.20917094, 0.71736085, 0.363523  , 0.04670918, 0.14977789,\n",
              "            0.84361756, 0.9355587 , 0.09517312, 0.08617878, 0.6247839 ]]]]],\n",
              "       dtype=float32)>, <tf.Tensor: shape=(2, 50), dtype=float32, numpy=\n",
              " array([[0.6645621 , 0.44100678, 0.3528825 , 0.46448255, 0.03366041,\n",
              "         0.68467236, 0.74011743, 0.8724445 , 0.22632635, 0.22319686,\n",
              "         0.3103881 , 0.7223358 , 0.13318717, 0.5480639 , 0.5746088 ,\n",
              "         0.8996835 , 0.00946367, 0.5212307 , 0.6345445 , 0.1993283 ,\n",
              "         0.72942245, 0.54583454, 0.10756552, 0.6767061 , 0.6602763 ,\n",
              "         0.33695042, 0.60141766, 0.21062577, 0.8527372 , 0.44062173,\n",
              "         0.9485276 , 0.23752594, 0.81179297, 0.5263394 , 0.494308  ,\n",
              "         0.21612847, 0.8457197 , 0.8718841 , 0.3083862 , 0.6868038 ,\n",
              "         0.23764038, 0.7817228 , 0.9671384 , 0.06870162, 0.79873943,\n",
              "         0.66028714, 0.5871513 , 0.16461694, 0.7381023 , 0.32054043],\n",
              "        [0.6073899 , 0.46523476, 0.97803545, 0.7223145 , 0.32347047,\n",
              "         0.82577336, 0.4976915 , 0.19483674, 0.7588748 , 0.3380444 ,\n",
              "         0.28128064, 0.31513572, 0.60670924, 0.7498598 , 0.5016055 ,\n",
              "         0.18282163, 0.13179815, 0.64636123, 0.9559475 , 0.6670735 ,\n",
              "         0.30755532, 0.36892188, 0.44735897, 0.18359458, 0.5288255 ,\n",
              "         0.7052754 , 0.898633  , 0.31386292, 0.62338257, 0.96815526,\n",
              "         0.11207926, 0.29590535, 0.9356605 , 0.1341263 , 0.31937933,\n",
              "         0.262277  , 0.03148758, 0.90045524, 0.6409379 , 0.5821855 ,\n",
              "         0.20917094, 0.71736085, 0.363523  , 0.04670918, 0.14977789,\n",
              "         0.84361756, 0.9355587 , 0.09517312, 0.08617878, 0.6247839 ]],\n",
              "       dtype=float32)>)"
            ]
          },
          "metadata": {},
          "execution_count": 44
        }
      ]
    },
    {
      "cell_type": "markdown",
      "source": [
        "###One Hot Encoding"
      ],
      "metadata": {
        "id": "ONsTPgkxd_pd"
      }
    },
    {
      "cell_type": "code",
      "source": [
        "# Create a list of indicies\n",
        "some_list = [0, 1, 2, 3, 4]\n",
        "depth = 4\n",
        "tf.one_hot(some_list, depth)"
      ],
      "metadata": {
        "id": "bZ1r8omHet5a",
        "outputId": "2015c175-ae20-48f0-bd84-cc2e3ed8d794",
        "colab": {
          "base_uri": "https://localhost:8080/"
        }
      },
      "execution_count": 45,
      "outputs": [
        {
          "output_type": "execute_result",
          "data": {
            "text/plain": [
              "<tf.Tensor: shape=(5, 4), dtype=float32, numpy=\n",
              "array([[1., 0., 0., 0.],\n",
              "       [0., 1., 0., 0.],\n",
              "       [0., 0., 1., 0.],\n",
              "       [0., 0., 0., 1.],\n",
              "       [0., 0., 0., 0.]], dtype=float32)>"
            ]
          },
          "metadata": {},
          "execution_count": 45
        }
      ]
    },
    {
      "cell_type": "code",
      "source": [
        "# Custom One-Hots\n",
        "tf.one_hot(some_list, depth, on_value=\"Yeah you bedda!\", off_value=\"Oh, no you didn't!\")"
      ],
      "metadata": {
        "id": "Ju2iGv0dfpJJ",
        "outputId": "ca62d184-5c98-4974-b82c-e7979d4278a0",
        "colab": {
          "base_uri": "https://localhost:8080/"
        }
      },
      "execution_count": 48,
      "outputs": [
        {
          "output_type": "execute_result",
          "data": {
            "text/plain": [
              "<tf.Tensor: shape=(5, 4), dtype=string, numpy=\n",
              "array([[b'Yeah you bedda!', b\"Oh, no you didn't!\", b\"Oh, no you didn't!\",\n",
              "        b\"Oh, no you didn't!\"],\n",
              "       [b\"Oh, no you didn't!\", b'Yeah you bedda!', b\"Oh, no you didn't!\",\n",
              "        b\"Oh, no you didn't!\"],\n",
              "       [b\"Oh, no you didn't!\", b\"Oh, no you didn't!\", b'Yeah you bedda!',\n",
              "        b\"Oh, no you didn't!\"],\n",
              "       [b\"Oh, no you didn't!\", b\"Oh, no you didn't!\",\n",
              "        b\"Oh, no you didn't!\", b'Yeah you bedda!'],\n",
              "       [b\"Oh, no you didn't!\", b\"Oh, no you didn't!\",\n",
              "        b\"Oh, no you didn't!\", b\"Oh, no you didn't!\"]], dtype=object)>"
            ]
          },
          "metadata": {},
          "execution_count": 48
        }
      ]
    },
    {
      "cell_type": "markdown",
      "source": [
        "###Squaring, log and aquare root"
      ],
      "metadata": {
        "id": "zt4fAARIg4ii"
      }
    },
    {
      "cell_type": "code",
      "source": [
        "H = tf.range(1, 100000)\n",
        "H"
      ],
      "metadata": {
        "id": "zbZ0dbzDhGhP",
        "outputId": "8b5dfe3a-29ef-47ae-85a5-ec9a2a182bbf",
        "colab": {
          "base_uri": "https://localhost:8080/"
        }
      },
      "execution_count": 49,
      "outputs": [
        {
          "output_type": "execute_result",
          "data": {
            "text/plain": [
              "<tf.Tensor: shape=(99999,), dtype=int32, numpy=array([    1,     2,     3, ..., 99997, 99998, 99999], dtype=int32)>"
            ]
          },
          "metadata": {},
          "execution_count": 49
        }
      ]
    },
    {
      "cell_type": "code",
      "source": [
        "# Find the square, log and root\n",
        "tf.square(H), tf.math.log(tf.cast(F, dtype=np.float16)), tf.math.sqrt(tf.cast(H, dtype=np.float16))"
      ],
      "metadata": {
        "id": "pLr-G1W1hUfk",
        "outputId": "bd17478b-d49c-418b-e91c-9a2348f95518",
        "colab": {
          "base_uri": "https://localhost:8080/"
        }
      },
      "execution_count": 54,
      "outputs": [
        {
          "output_type": "execute_result",
          "data": {
            "text/plain": [
              "(<tf.Tensor: shape=(99999,), dtype=int32, numpy=\n",
              " array([         1,          4,          9, ..., 1409465417, 1409665412,\n",
              "        1409865409], dtype=int32)>,\n",
              " <tf.Tensor: shape=(50,), dtype=float16, numpy=\n",
              " array([-0.4087 , -0.819  , -1.042  , -0.7666 , -3.39   , -0.379  ,\n",
              "        -0.3008 , -0.1364 , -1.485  , -1.5    , -1.17   , -0.3254 ,\n",
              "        -2.016  , -0.6016 , -0.5537 , -0.10547, -4.66   , -0.652  ,\n",
              "        -0.4546 , -1.612  , -0.3154 , -0.6055 , -2.23   , -0.3904 ,\n",
              "        -0.4153 , -1.088  , -0.5083 , -1.558  , -0.1595 , -0.8193 ,\n",
              "        -0.05264, -1.4375 , -0.2083 , -0.6416 , -0.7046 , -1.531  ,\n",
              "        -0.1676 , -0.1368 , -1.177  , -0.3755 , -1.437  , -0.2462 ,\n",
              "        -0.03326, -2.678  , -0.2246 , -0.4153 , -0.5327 , -1.804  ,\n",
              "        -0.3035 , -1.138  ], dtype=float16)>,\n",
              " <tf.Tensor: shape=(99999,), dtype=float16, numpy=array([1.   , 1.414, 1.732, ...,   inf,   inf,   inf], dtype=float16)>)"
            ]
          },
          "metadata": {},
          "execution_count": 54
        }
      ]
    }
  ]
}